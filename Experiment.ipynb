{
 "cells": [
  {
   "cell_type": "code",
   "execution_count": 3,
   "metadata": {},
   "outputs": [],
   "source": [
    "import torch\n",
    "import torch_geometric\n",
    "import torch.nn as nn\n",
    "import torch.nn.functional as F\n",
    "from torch_geometric.datasets import Planetoid"
   ]
  },
  {
   "cell_type": "code",
   "execution_count": 34,
   "metadata": {},
   "outputs": [],
   "source": [
    "class MLP(nn.Module):\n",
    "    def __init__(self, input_dim, output_dim, sigma=False):\n",
    "        super(MLP, self).__init__()\n",
    "        self.linear_1 = nn.Linear(input_dim, output_dim)\n",
    "        self.sigma = sigma\n",
    "        \n",
    "    def forward(self, x):\n",
    "        x = self.linear(x)\n",
    "        if sigma:\n",
    "            x = F.relu(x)\n",
    "        return (x)\n",
    "    \n",
    "\n",
    "    \n",
    "class Node:\n",
    "    \n",
    "    def __init__(self, data, mlp, E, learning_rate):\n",
    "        \n",
    "        self.data = data\n",
    "        self.mlp = mlp\n",
    "        self.E\n",
    "        self.learning_rate = learning_rate\n",
    "        \n",
    "        \n",
    "    def receive(self, parameters):\n",
    "        \n",
    "        # parameters: a dict of parameters: {\"linear_1.weight\": tensor,......}\n",
    "        \n",
    "        with torch.no_grad():\n",
    "            for name, param in mlp.named_parameters():\n",
    "                param.copy_(parameters[name])\n",
    "                \n",
    "        \n",
    "    def upload(self):\n",
    "        \n",
    "        # return a dict of parameters: {\"linear_1,weight\":\" tensor,......,}\n",
    "        \n",
    "        return mlp.state_dict()\n",
    "        \n",
    "    def local_update(self):\n",
    "        \n",
    "        optimizer = torch.optim.SGD(self.mlp.parameters(), lr=self.learning_rate)\n",
    "        loss = \n",
    "\n",
    "        \n",
    "        "
   ]
  },
  {
   "cell_type": "code",
   "execution_count": null,
   "metadata": {},
   "outputs": [],
   "source": []
  }
 ],
 "metadata": {
  "kernelspec": {
   "display_name": "Python 3",
   "language": "python",
   "name": "python3"
  },
  "language_info": {
   "codemirror_mode": {
    "name": "ipython",
    "version": 3
   },
   "file_extension": ".py",
   "mimetype": "text/x-python",
   "name": "python",
   "nbconvert_exporter": "python",
   "pygments_lexer": "ipython3",
   "version": "3.8.5"
  }
 },
 "nbformat": 4,
 "nbformat_minor": 4
}
